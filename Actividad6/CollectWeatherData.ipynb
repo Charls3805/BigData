{
 "cells": [
  {
   "cell_type": "code",
   "execution_count": 1,
   "id": "9f9f29a7",
   "metadata": {},
   "outputs": [],
   "source": [
    "import requests\n",
    "import pandas as pd\n",
    "import numpy as np \n",
    "from keys import * #Se importan los paquetes necesarios para poder leer y arrojar resultados en formatos optimos, en el caso de keys\n",
    "                    #Se importa el archivo y se cambia su extensión a .py\n",
    "city = \"Montréal\"\n",
    "country = \"CA\"\n",
    "response = requests.get(f'http://api.openweathermap.org/data/2.5/forecast/?q={city},{country}&appid={OWM_key}&units=metric&lang=en')\n",
    "# Se ingresan los datos con los cuales se realizará la busqueda, ciudad, país y los datos que se extraerán de la página"
   ]
  },
  {
   "cell_type": "code",
   "execution_count": 2,
   "id": "104d6f7e",
   "metadata": {},
   "outputs": [
    {
     "name": "stdout",
     "output_type": "stream",
     "text": [
      "{'cod': '200', 'message': 0, 'cnt': 40, 'list': [{'dt': 1761868800, 'main': {'temp': 5.67, 'feels_like': 2.78, 'temp_min': 5.67, 'temp_max': 6.83, 'pressure': 1006, 'sea_level': 1006, 'grnd_level': 1002, 'humidity': 97, 'temp_kf': -1.16}, 'weather': [{'id': 501, 'main': 'Rain', 'description': 'moderate rain', 'icon': '10n'}], 'clouds': {'all': 100}, 'wind': {'speed': 3.82, 'deg': 39, 'gust': 8.07}, 'visibility': 10000, 'pop': 1, 'rain': {'3h': 3.72}, 'sys': {'pod': 'n'}, 'dt_txt': '2025-10-31 00:00:00'}, {'dt': 1761879600, 'main': {'temp': 6.39, 'feels_like': 3.48, 'temp_min': 6.39, 'temp_max': 7.82, 'pressure': 1004, 'sea_level': 1004, 'grnd_level': 998, 'humidity': 96, 'temp_kf': -1.43}, 'weather': [{'id': 500, 'main': 'Rain', 'description': 'light rain', 'icon': '10n'}], 'clouds': {'all': 100}, 'wind': {'speed': 4.17, 'deg': 60, 'gust': 10.1}, 'visibility': 10000, 'pop': 1, 'rain': {'3h': 1.52}, 'sys': {'pod': 'n'}, 'dt_txt': '2025-10-31 03:00:00'}, {'dt': 1761890400, 'main': {'temp': 7.6, 'feels_like': 4.9, 'temp_min': 7.6, 'temp_max': 8.56, 'pressure': 999, 'sea_level': 999, 'grnd_level': 993, 'humidity': 96, 'temp_kf': -0.96}, 'weather': [{'id': 500, 'main': 'Rain', 'description': 'light rain', 'icon': '10n'}], 'clouds': {'all': 100}, 'wind': {'speed': 4.31, 'deg': 46, 'gust': 10.55}, 'visibility': 10000, 'pop': 1, 'rain': {'3h': 1.21}, 'sys': {'pod': 'n'}, 'dt_txt': '2025-10-31 06:00:00'}, {'dt': 1761901200, 'main': {'temp': 9.32, 'feels_like': 6.41, 'temp_min': 9.32, 'temp_max': 9.32, 'pressure': 990, 'sea_level': 990, 'grnd_level': 986, 'humidity': 97, 'temp_kf': 0}, 'weather': [{'id': 501, 'main': 'Rain', 'description': 'moderate rain', 'icon': '10n'}], 'clouds': {'all': 100}, 'wind': {'speed': 5.9, 'deg': 50, 'gust': 12.47}, 'visibility': 4526, 'pop': 1, 'rain': {'3h': 3.54}, 'sys': {'pod': 'n'}, 'dt_txt': '2025-10-31 09:00:00'}, {'dt': 1761912000, 'main': {'temp': 9.45, 'feels_like': 6.71, 'temp_min': 9.45, 'temp_max': 9.45, 'pressure': 985, 'sea_level': 985, 'grnd_level': 981, 'humidity': 97, 'temp_kf': 0}, 'weather': [{'id': 501, 'main': 'Rain', 'description': 'moderate rain', 'icon': '10d'}], 'clouds': {'all': 100}, 'wind': {'speed': 5.53, 'deg': 45, 'gust': 12.6}, 'visibility': 4580, 'pop': 1, 'rain': {'3h': 11.05}, 'sys': {'pod': 'd'}, 'dt_txt': '2025-10-31 12:00:00'}, {'dt': 1761922800, 'main': {'temp': 9.48, 'feels_like': 6.92, 'temp_min': 9.48, 'temp_max': 9.48, 'pressure': 980, 'sea_level': 980, 'grnd_level': 977, 'humidity': 97, 'temp_kf': 0}, 'weather': [{'id': 501, 'main': 'Rain', 'description': 'moderate rain', 'icon': '10d'}], 'clouds': {'all': 100}, 'wind': {'speed': 5.05, 'deg': 73, 'gust': 10.22}, 'visibility': 3482, 'pop': 1, 'rain': {'3h': 8.06}, 'sys': {'pod': 'd'}, 'dt_txt': '2025-10-31 15:00:00'}, {'dt': 1761933600, 'main': {'temp': 9.26, 'feels_like': 8.49, 'temp_min': 9.26, 'temp_max': 9.26, 'pressure': 977, 'sea_level': 977, 'grnd_level': 974, 'humidity': 98, 'temp_kf': 0}, 'weather': [{'id': 501, 'main': 'Rain', 'description': 'moderate rain', 'icon': '10d'}], 'clouds': {'all': 100}, 'wind': {'speed': 1.82, 'deg': 347, 'gust': 4.34}, 'visibility': 238, 'pop': 1, 'rain': {'3h': 9.08}, 'sys': {'pod': 'd'}, 'dt_txt': '2025-10-31 18:00:00'}, {'dt': 1761944400, 'main': {'temp': 8.55, 'feels_like': 6.26, 'temp_min': 8.55, 'temp_max': 8.55, 'pressure': 979, 'sea_level': 979, 'grnd_level': 975, 'humidity': 96, 'temp_kf': 0}, 'weather': [{'id': 501, 'main': 'Rain', 'description': 'moderate rain', 'icon': '10d'}], 'clouds': {'all': 100}, 'wind': {'speed': 3.92, 'deg': 301, 'gust': 7.69}, 'visibility': 7680, 'pop': 1, 'rain': {'3h': 6.26}, 'sys': {'pod': 'd'}, 'dt_txt': '2025-10-31 21:00:00'}, {'dt': 1761955200, 'main': {'temp': 8.82, 'feels_like': 5.36, 'temp_min': 8.82, 'temp_max': 8.82, 'pressure': 983, 'sea_level': 983, 'grnd_level': 979, 'humidity': 83, 'temp_kf': 0}, 'weather': [{'id': 501, 'main': 'Rain', 'description': 'moderate rain', 'icon': '10n'}], 'clouds': {'all': 100}, 'wind': {'speed': 7.21, 'deg': 309, 'gust': 12.26}, 'visibility': 10000, 'pop': 1, 'rain': {'3h': 4.42}, 'sys': {'pod': 'n'}, 'dt_txt': '2025-11-01 00:00:00'}, {'dt': 1761966000, 'main': {'temp': 6.44, 'feels_like': 2.01, 'temp_min': 6.44, 'temp_max': 6.44, 'pressure': 989, 'sea_level': 989, 'grnd_level': 985, 'humidity': 90, 'temp_kf': 0}, 'weather': [{'id': 500, 'main': 'Rain', 'description': 'light rain', 'icon': '10n'}], 'clouds': {'all': 100}, 'wind': {'speed': 8.12, 'deg': 296, 'gust': 15.36}, 'visibility': 10000, 'pop': 0.83, 'rain': {'3h': 0.76}, 'sys': {'pod': 'n'}, 'dt_txt': '2025-11-01 03:00:00'}, {'dt': 1761976800, 'main': {'temp': 6.32, 'feels_like': 2.12, 'temp_min': 6.32, 'temp_max': 6.32, 'pressure': 994, 'sea_level': 994, 'grnd_level': 990, 'humidity': 86, 'temp_kf': 0}, 'weather': [{'id': 500, 'main': 'Rain', 'description': 'light rain', 'icon': '10n'}], 'clouds': {'all': 100}, 'wind': {'speed': 7.28, 'deg': 293, 'gust': 14.09}, 'visibility': 10000, 'pop': 0.94, 'rain': {'3h': 1.27}, 'sys': {'pod': 'n'}, 'dt_txt': '2025-11-01 06:00:00'}, {'dt': 1761987600, 'main': {'temp': 5.78, 'feels_like': 1.46, 'temp_min': 5.78, 'temp_max': 5.78, 'pressure': 999, 'sea_level': 999, 'grnd_level': 995, 'humidity': 76, 'temp_kf': 0}, 'weather': [{'id': 500, 'main': 'Rain', 'description': 'light rain', 'icon': '10n'}], 'clouds': {'all': 100}, 'wind': {'speed': 7.17, 'deg': 286, 'gust': 12.42}, 'visibility': 10000, 'pop': 0.39, 'rain': {'3h': 0.22}, 'sys': {'pod': 'n'}, 'dt_txt': '2025-11-01 09:00:00'}, {'dt': 1761998400, 'main': {'temp': 5.25, 'feels_like': 1.12, 'temp_min': 5.25, 'temp_max': 5.25, 'pressure': 1004, 'sea_level': 1004, 'grnd_level': 1000, 'humidity': 75, 'temp_kf': 0}, 'weather': [{'id': 804, 'main': 'Clouds', 'description': 'overcast clouds', 'icon': '04d'}], 'clouds': {'all': 100}, 'wind': {'speed': 6.23, 'deg': 273, 'gust': 10.5}, 'visibility': 10000, 'pop': 0, 'sys': {'pod': 'd'}, 'dt_txt': '2025-11-01 12:00:00'}, {'dt': 1762009200, 'main': {'temp': 5.46, 'feels_like': 1.55, 'temp_min': 5.46, 'temp_max': 5.46, 'pressure': 1007, 'sea_level': 1007, 'grnd_level': 1004, 'humidity': 72, 'temp_kf': 0}, 'weather': [{'id': 804, 'main': 'Clouds', 'description': 'overcast clouds', 'icon': '04d'}], 'clouds': {'all': 100}, 'wind': {'speed': 5.82, 'deg': 275, 'gust': 9.62}, 'visibility': 10000, 'pop': 0, 'sys': {'pod': 'd'}, 'dt_txt': '2025-11-01 15:00:00'}, {'dt': 1762020000, 'main': {'temp': 6.43, 'feels_like': 2.86, 'temp_min': 6.43, 'temp_max': 6.43, 'pressure': 1010, 'sea_level': 1010, 'grnd_level': 1006, 'humidity': 58, 'temp_kf': 0}, 'weather': [{'id': 804, 'main': 'Clouds', 'description': 'overcast clouds', 'icon': '04d'}], 'clouds': {'all': 97}, 'wind': {'speed': 5.62, 'deg': 291, 'gust': 8.58}, 'visibility': 10000, 'pop': 0, 'sys': {'pod': 'd'}, 'dt_txt': '2025-11-01 18:00:00'}, {'dt': 1762030800, 'main': {'temp': 5.31, 'feels_like': 1.63, 'temp_min': 5.31, 'temp_max': 5.31, 'pressure': 1013, 'sea_level': 1013, 'grnd_level': 1010, 'humidity': 62, 'temp_kf': 0}, 'weather': [{'id': 804, 'main': 'Clouds', 'description': 'overcast clouds', 'icon': '04d'}], 'clouds': {'all': 100}, 'wind': {'speed': 5.21, 'deg': 288, 'gust': 8.31}, 'visibility': 10000, 'pop': 0, 'sys': {'pod': 'd'}, 'dt_txt': '2025-11-01 21:00:00'}, {'dt': 1762041600, 'main': {'temp': 4.93, 'feels_like': 1.31, 'temp_min': 4.93, 'temp_max': 4.93, 'pressure': 1017, 'sea_level': 1017, 'grnd_level': 1013, 'humidity': 55, 'temp_kf': 0}, 'weather': [{'id': 804, 'main': 'Clouds', 'description': 'overcast clouds', 'icon': '04n'}], 'clouds': {'all': 99}, 'wind': {'speed': 4.87, 'deg': 302, 'gust': 7.64}, 'visibility': 10000, 'pop': 0, 'sys': {'pod': 'n'}, 'dt_txt': '2025-11-02 00:00:00'}, {'dt': 1762052400, 'main': {'temp': 4.86, 'feels_like': 1.65, 'temp_min': 4.86, 'temp_max': 4.86, 'pressure': 1019, 'sea_level': 1019, 'grnd_level': 1015, 'humidity': 54, 'temp_kf': 0}, 'weather': [{'id': 804, 'main': 'Clouds', 'description': 'overcast clouds', 'icon': '04n'}], 'clouds': {'all': 100}, 'wind': {'speed': 4.07, 'deg': 296, 'gust': 6.37}, 'visibility': 10000, 'pop': 0, 'sys': {'pod': 'n'}, 'dt_txt': '2025-11-02 03:00:00'}, {'dt': 1762063200, 'main': {'temp': 3.8, 'feels_like': 0.94, 'temp_min': 3.8, 'temp_max': 3.8, 'pressure': 1020, 'sea_level': 1020, 'grnd_level': 1017, 'humidity': 62, 'temp_kf': 0}, 'weather': [{'id': 803, 'main': 'Clouds', 'description': 'broken clouds', 'icon': '04n'}], 'clouds': {'all': 82}, 'wind': {'speed': 3.17, 'deg': 284, 'gust': 7.27}, 'visibility': 10000, 'pop': 0, 'sys': {'pod': 'n'}, 'dt_txt': '2025-11-02 06:00:00'}, {'dt': 1762074000, 'main': {'temp': 2.87, 'feels_like': 0.44, 'temp_min': 2.87, 'temp_max': 2.87, 'pressure': 1022, 'sea_level': 1022, 'grnd_level': 1018, 'humidity': 68, 'temp_kf': 0}, 'weather': [{'id': 800, 'main': 'Clear', 'description': 'clear sky', 'icon': '01n'}], 'clouds': {'all': 8}, 'wind': {'speed': 2.43, 'deg': 285, 'gust': 6.65}, 'visibility': 10000, 'pop': 0, 'sys': {'pod': 'n'}, 'dt_txt': '2025-11-02 09:00:00'}, {'dt': 1762084800, 'main': {'temp': 2.64, 'feels_like': 0.32, 'temp_min': 2.64, 'temp_max': 2.64, 'pressure': 1024, 'sea_level': 1024, 'grnd_level': 1020, 'humidity': 68, 'temp_kf': 0}, 'weather': [{'id': 801, 'main': 'Clouds', 'description': 'few clouds', 'icon': '02d'}], 'clouds': {'all': 18}, 'wind': {'speed': 2.28, 'deg': 249, 'gust': 6.62}, 'visibility': 10000, 'pop': 0, 'sys': {'pod': 'd'}, 'dt_txt': '2025-11-02 12:00:00'}, {'dt': 1762095600, 'main': {'temp': 5.32, 'feels_like': 2.15, 'temp_min': 5.32, 'temp_max': 5.32, 'pressure': 1025, 'sea_level': 1025, 'grnd_level': 1021, 'humidity': 56, 'temp_kf': 0}, 'weather': [{'id': 803, 'main': 'Clouds', 'description': 'broken clouds', 'icon': '04d'}], 'clouds': {'all': 77}, 'wind': {'speed': 4.19, 'deg': 252, 'gust': 5.61}, 'visibility': 10000, 'pop': 0, 'sys': {'pod': 'd'}, 'dt_txt': '2025-11-02 15:00:00'}, {'dt': 1762106400, 'main': {'temp': 7, 'feels_like': 4.19, 'temp_min': 7, 'temp_max': 7, 'pressure': 1024, 'sea_level': 1024, 'grnd_level': 1020, 'humidity': 49, 'temp_kf': 0}, 'weather': [{'id': 803, 'main': 'Clouds', 'description': 'broken clouds', 'icon': '04d'}], 'clouds': {'all': 82}, 'wind': {'speed': 4.24, 'deg': 255, 'gust': 6.05}, 'visibility': 10000, 'pop': 0, 'sys': {'pod': 'd'}, 'dt_txt': '2025-11-02 18:00:00'}, {'dt': 1762117200, 'main': {'temp': 6.68, 'feels_like': 4.27, 'temp_min': 6.68, 'temp_max': 6.68, 'pressure': 1023, 'sea_level': 1023, 'grnd_level': 1020, 'humidity': 54, 'temp_kf': 0}, 'weather': [{'id': 803, 'main': 'Clouds', 'description': 'broken clouds', 'icon': '04d'}], 'clouds': {'all': 75}, 'wind': {'speed': 3.4, 'deg': 253, 'gust': 6.1}, 'visibility': 10000, 'pop': 0, 'sys': {'pod': 'd'}, 'dt_txt': '2025-11-02 21:00:00'}, {'dt': 1762128000, 'main': {'temp': 5.1, 'feels_like': 3.93, 'temp_min': 5.1, 'temp_max': 5.1, 'pressure': 1025, 'sea_level': 1025, 'grnd_level': 1021, 'humidity': 63, 'temp_kf': 0}, 'weather': [{'id': 802, 'main': 'Clouds', 'description': 'scattered clouds', 'icon': '03n'}], 'clouds': {'all': 44}, 'wind': {'speed': 1.6, 'deg': 245, 'gust': 2.74}, 'visibility': 10000, 'pop': 0, 'sys': {'pod': 'n'}, 'dt_txt': '2025-11-03 00:00:00'}, {'dt': 1762138800, 'main': {'temp': 3.82, 'feels_like': 1.81, 'temp_min': 3.82, 'temp_max': 3.82, 'pressure': 1025, 'sea_level': 1025, 'grnd_level': 1021, 'humidity': 72, 'temp_kf': 0}, 'weather': [{'id': 800, 'main': 'Clear', 'description': 'clear sky', 'icon': '01n'}], 'clouds': {'all': 9}, 'wind': {'speed': 2.18, 'deg': 208, 'gust': 5.08}, 'visibility': 10000, 'pop': 0, 'sys': {'pod': 'n'}, 'dt_txt': '2025-11-03 03:00:00'}, {'dt': 1762149600, 'main': {'temp': 3.15, 'feels_like': 1.57, 'temp_min': 3.15, 'temp_max': 3.15, 'pressure': 1024, 'sea_level': 1024, 'grnd_level': 1020, 'humidity': 77, 'temp_kf': 0}, 'weather': [{'id': 800, 'main': 'Clear', 'description': 'clear sky', 'icon': '01n'}], 'clouds': {'all': 8}, 'wind': {'speed': 1.7, 'deg': 199, 'gust': 3.79}, 'visibility': 10000, 'pop': 0, 'sys': {'pod': 'n'}, 'dt_txt': '2025-11-03 06:00:00'}, {'dt': 1762160400, 'main': {'temp': 2.63, 'feels_like': 1.23, 'temp_min': 2.63, 'temp_max': 2.63, 'pressure': 1023, 'sea_level': 1023, 'grnd_level': 1020, 'humidity': 79, 'temp_kf': 0}, 'weather': [{'id': 800, 'main': 'Clear', 'description': 'clear sky', 'icon': '01n'}], 'clouds': {'all': 10}, 'wind': {'speed': 1.51, 'deg': 155, 'gust': 3.1}, 'visibility': 10000, 'pop': 0, 'sys': {'pod': 'n'}, 'dt_txt': '2025-11-03 09:00:00'}, {'dt': 1762171200, 'main': {'temp': 3.77, 'feels_like': 0.16, 'temp_min': 3.77, 'temp_max': 3.77, 'pressure': 1021, 'sea_level': 1021, 'grnd_level': 1017, 'humidity': 80, 'temp_kf': 0}, 'weather': [{'id': 803, 'main': 'Clouds', 'description': 'broken clouds', 'icon': '04d'}], 'clouds': {'all': 51}, 'wind': {'speed': 4.32, 'deg': 153, 'gust': 10.52}, 'visibility': 10000, 'pop': 0, 'sys': {'pod': 'd'}, 'dt_txt': '2025-11-03 12:00:00'}, {'dt': 1762182000, 'main': {'temp': 6.36, 'feels_like': 3.22, 'temp_min': 6.36, 'temp_max': 6.36, 'pressure': 1018, 'sea_level': 1018, 'grnd_level': 1015, 'humidity': 73, 'temp_kf': 0}, 'weather': [{'id': 804, 'main': 'Clouds', 'description': 'overcast clouds', 'icon': '04d'}], 'clouds': {'all': 100}, 'wind': {'speed': 4.61, 'deg': 159, 'gust': 9.94}, 'visibility': 10000, 'pop': 0, 'sys': {'pod': 'd'}, 'dt_txt': '2025-11-03 15:00:00'}, {'dt': 1762192800, 'main': {'temp': 11.59, 'feels_like': 10.37, 'temp_min': 11.59, 'temp_max': 11.59, 'pressure': 1014, 'sea_level': 1014, 'grnd_level': 1011, 'humidity': 60, 'temp_kf': 0}, 'weather': [{'id': 804, 'main': 'Clouds', 'description': 'overcast clouds', 'icon': '04d'}], 'clouds': {'all': 90}, 'wind': {'speed': 3.93, 'deg': 164, 'gust': 7.06}, 'visibility': 10000, 'pop': 0, 'sys': {'pod': 'd'}, 'dt_txt': '2025-11-03 18:00:00'}, {'dt': 1762203600, 'main': {'temp': 10.59, 'feels_like': 9.58, 'temp_min': 10.59, 'temp_max': 10.59, 'pressure': 1012, 'sea_level': 1012, 'grnd_level': 1008, 'humidity': 72, 'temp_kf': 0}, 'weather': [{'id': 500, 'main': 'Rain', 'description': 'light rain', 'icon': '10d'}], 'clouds': {'all': 89}, 'wind': {'speed': 4.04, 'deg': 167, 'gust': 9.75}, 'visibility': 10000, 'pop': 0.36, 'rain': {'3h': 0.14}, 'sys': {'pod': 'd'}, 'dt_txt': '2025-11-03 21:00:00'}, {'dt': 1762214400, 'main': {'temp': 9.52, 'feels_like': 7.5, 'temp_min': 9.52, 'temp_max': 9.52, 'pressure': 1008, 'sea_level': 1008, 'grnd_level': 1005, 'humidity': 76, 'temp_kf': 0}, 'weather': [{'id': 804, 'main': 'Clouds', 'description': 'overcast clouds', 'icon': '04n'}], 'clouds': {'all': 95}, 'wind': {'speed': 3.81, 'deg': 171, 'gust': 10.64}, 'visibility': 10000, 'pop': 0.02, 'sys': {'pod': 'n'}, 'dt_txt': '2025-11-04 00:00:00'}, {'dt': 1762225200, 'main': {'temp': 8.94, 'feels_like': 7.92, 'temp_min': 8.94, 'temp_max': 8.94, 'pressure': 1005, 'sea_level': 1005, 'grnd_level': 1002, 'humidity': 85, 'temp_kf': 0}, 'weather': [{'id': 500, 'main': 'Rain', 'description': 'light rain', 'icon': '10n'}], 'clouds': {'all': 100}, 'wind': {'speed': 2.05, 'deg': 196, 'gust': 6.95}, 'visibility': 10000, 'pop': 1, 'rain': {'3h': 1.35}, 'sys': {'pod': 'n'}, 'dt_txt': '2025-11-04 03:00:00'}, {'dt': 1762236000, 'main': {'temp': 8.37, 'feels_like': 6.12, 'temp_min': 8.37, 'temp_max': 8.37, 'pressure': 1002, 'sea_level': 1002, 'grnd_level': 999, 'humidity': 91, 'temp_kf': 0}, 'weather': [{'id': 500, 'main': 'Rain', 'description': 'light rain', 'icon': '10n'}], 'clouds': {'all': 100}, 'wind': {'speed': 3.77, 'deg': 217, 'gust': 8.84}, 'visibility': 7353, 'pop': 1, 'rain': {'3h': 2.53}, 'sys': {'pod': 'n'}, 'dt_txt': '2025-11-04 06:00:00'}, {'dt': 1762246800, 'main': {'temp': 7.01, 'feels_like': 4.05, 'temp_min': 7.01, 'temp_max': 7.01, 'pressure': 1002, 'sea_level': 1002, 'grnd_level': 998, 'humidity': 85, 'temp_kf': 0}, 'weather': [{'id': 500, 'main': 'Rain', 'description': 'light rain', 'icon': '10n'}], 'clouds': {'all': 100}, 'wind': {'speed': 4.57, 'deg': 256, 'gust': 8.81}, 'visibility': 10000, 'pop': 1, 'rain': {'3h': 1.37}, 'sys': {'pod': 'n'}, 'dt_txt': '2025-11-04 09:00:00'}, {'dt': 1762257600, 'main': {'temp': 6.45, 'feels_like': 3.45, 'temp_min': 6.45, 'temp_max': 6.45, 'pressure': 1002, 'sea_level': 1002, 'grnd_level': 999, 'humidity': 86, 'temp_kf': 0}, 'weather': [{'id': 804, 'main': 'Clouds', 'description': 'overcast clouds', 'icon': '04d'}], 'clouds': {'all': 100}, 'wind': {'speed': 4.36, 'deg': 258, 'gust': 8.14}, 'visibility': 10000, 'pop': 0.76, 'sys': {'pod': 'd'}, 'dt_txt': '2025-11-04 12:00:00'}, {'dt': 1762268400, 'main': {'temp': 6.62, 'feels_like': 3.07, 'temp_min': 6.62, 'temp_max': 6.62, 'pressure': 1003, 'sea_level': 1003, 'grnd_level': 1000, 'humidity': 81, 'temp_kf': 0}, 'weather': [{'id': 500, 'main': 'Rain', 'description': 'light rain', 'icon': '10d'}], 'clouds': {'all': 97}, 'wind': {'speed': 5.7, 'deg': 272, 'gust': 8.89}, 'visibility': 10000, 'pop': 0.2, 'rain': {'3h': 0.18}, 'sys': {'pod': 'd'}, 'dt_txt': '2025-11-04 15:00:00'}, {'dt': 1762279200, 'main': {'temp': 5.76, 'feels_like': 1.65, 'temp_min': 5.76, 'temp_max': 5.76, 'pressure': 1004, 'sea_level': 1004, 'grnd_level': 1001, 'humidity': 80, 'temp_kf': 0}, 'weather': [{'id': 500, 'main': 'Rain', 'description': 'light rain', 'icon': '10d'}], 'clouds': {'all': 99}, 'wind': {'speed': 6.54, 'deg': 289, 'gust': 11.05}, 'visibility': 10000, 'pop': 0.2, 'rain': {'3h': 0.3}, 'sys': {'pod': 'd'}, 'dt_txt': '2025-11-04 18:00:00'}, {'dt': 1762290000, 'main': {'temp': 5.65, 'feels_like': 1.39, 'temp_min': 5.65, 'temp_max': 5.65, 'pressure': 1007, 'sea_level': 1007, 'grnd_level': 1004, 'humidity': 73, 'temp_kf': 0}, 'weather': [{'id': 500, 'main': 'Rain', 'description': 'light rain', 'icon': '10d'}], 'clouds': {'all': 100}, 'wind': {'speed': 6.87, 'deg': 297, 'gust': 12.68}, 'visibility': 10000, 'pop': 0.23, 'rain': {'3h': 0.18}, 'sys': {'pod': 'd'}, 'dt_txt': '2025-11-04 21:00:00'}], 'city': {'id': 6077243, 'name': 'Montreal', 'coord': {'lat': 45.5088, 'lon': -73.5878}, 'country': 'CA', 'population': 3268513, 'timezone': -14400, 'sunrise': 1761823875, 'sunset': 1761860674}}\n",
      "      weather_datetime  temperature  humidity weather_status  wind  rain_qty  \\\n",
      "0  2025-10-31 00:00:00         5.67        97           Rain  3.82      3.72   \n",
      "1  2025-10-31 03:00:00         6.39        96           Rain  4.17      1.52   \n",
      "2  2025-10-31 06:00:00         7.60        96           Rain  4.31      1.21   \n",
      "3  2025-10-31 09:00:00         9.32        97           Rain  5.90      3.54   \n",
      "4  2025-10-31 12:00:00         9.45        97           Rain  5.53     11.05   \n",
      "\n",
      "   snow municipality_iso_country  \n",
      "0   NaN                       CA  \n",
      "1   NaN                       CA  \n",
      "2   NaN                       CA  \n",
      "3   NaN                       CA  \n",
      "4   NaN                       CA  \n"
     ]
    }
   ],
   "source": [
    "data = response.json()# Convierte la respuesta de la API a formato JSON\n",
    "print (data)# Imprime la respuesta\n",
    "\n",
    "# Extract forecast list\n",
    "forecast_list = data.get('list', [])# Extrae la lista de pronósticos desde el JSON.\n",
    "\n",
    "# Prepara listas vacías para almacenar los datos que usaremos en el DataFrame\n",
    "# Prepare lists for DataFrame columns\n",
    "times = []\n",
    "temperatures = []\n",
    "humidities = []\n",
    "weather_statuses = []\n",
    "wind_speeds = []\n",
    "rain_volumes = []\n",
    "snow_volumes = []\n",
    "\n",
    "#Recorremos cada dato de la lista\n",
    "for entry in forecast_list:\n",
    "    # Extrae la fecha y hora del pronóstico\n",
    "    times.append(entry.get('dt_txt', np.nan))\n",
    "    # Extrae la temperatura\n",
    "    temperatures.append(entry.get('main', {}).get('temp', np.nan))\n",
    "    # Extrae la humedad\n",
    "    humidities.append(entry.get('main', {}).get('humidity', np.nan))\n",
    "     # Extrae el estado del clima\n",
    "    weather_statuses.append(entry.get('weather', [{}])[0].get('main', np.nan))\n",
    "    # Extrae la velocidad del viento\n",
    "    wind_speeds.append(entry.get('wind', {}).get('speed', np.nan))\n",
    "    # Extrae la cantidad de lluvia en las últimas 3 horas\n",
    "    rain_volumes.append(entry.get('rain', {}).get('3h', np.nan))\n",
    "    # Extrae la cantidad de nieve en las últimas 3 horas \n",
    "    snow_volumes.append(entry.get('snow', {}).get('3h', np.nan))\n",
    "\n",
    "# Create DataFrame # Se crea un DataFrame con los datos recolectados\n",
    "df = pd.DataFrame({\n",
    "    'weather_datetime': times,\n",
    "    'temperature': temperatures,\n",
    "    'humidity': humidities,\n",
    "    'weather_status': weather_statuses,\n",
    "    'wind': wind_speeds,\n",
    "    'rain_qty': rain_volumes,\n",
    "    'snow': snow_volumes,\n",
    "    'municipality_iso_country': f\"CA\"\n",
    "})\n",
    "# Se muestran las primeras filas del DataFrame\n",
    "print(df.head())"
   ]
  },
  {
   "cell_type": "code",
   "execution_count": 3,
   "id": "c2788bec",
   "metadata": {
    "scrolled": true
   },
   "outputs": [
    {
     "name": "stdout",
     "output_type": "stream",
     "text": [
      "Conectado a MySQL\n"
     ]
    }
   ],
   "source": [
    "import sqlalchemy\n",
    "import pymysql\n",
    "# connection details for the local mysql database\n",
    "from sqlalchemy import create_engine\n",
    "\n",
    "user = \"root\"\n",
    "password = \"HKnight03%2F08%2F05\"  # password con / codificado\n",
    "host = \"localhost\"\n",
    "port = 3306\n",
    "schema = \"gans\"\n",
    "\n",
    "engine = create_engine(f\"mysql+pymysql://{user}:{password}@{host}:{port}/{schema}\")\n",
    "con = engine.connect()\n",
    "print(\"Conectado a MySQL\")"
   ]
  },
  {
   "cell_type": "code",
   "execution_count": 4,
   "id": "4d39219d-9677-4a6d-ab45-61f1c05af60c",
   "metadata": {},
   "outputs": [],
   "source": [
    "df[\"municipality_iso_country\"] = \"CA\""
   ]
  },
  {
   "cell_type": "code",
   "execution_count": 6,
   "id": "e7ea5c30",
   "metadata": {},
   "outputs": [
    {
     "data": {
      "text/plain": [
       "40"
      ]
     },
     "execution_count": 6,
     "metadata": {},
     "output_type": "execute_result"
    }
   ],
   "source": [
    "# send the weather data to the database\n",
    "df.to_sql('weather_data', if_exists = 'append', con = engine, index=False)\n"
   ]
  },
  {
   "cell_type": "code",
   "execution_count": null,
   "id": "dbb24b9b-6282-4356-8174-5f886eb508b1",
   "metadata": {},
   "outputs": [],
   "source": []
  }
 ],
 "metadata": {
  "kernelspec": {
   "display_name": "Python (.venv actividad6)",
   "language": "python",
   "name": "actividad6"
  },
  "language_info": {
   "codemirror_mode": {
    "name": "ipython",
    "version": 3
   },
   "file_extension": ".py",
   "mimetype": "text/x-python",
   "name": "python",
   "nbconvert_exporter": "python",
   "pygments_lexer": "ipython3",
   "version": "3.12.3"
  }
 },
 "nbformat": 4,
 "nbformat_minor": 5
}
