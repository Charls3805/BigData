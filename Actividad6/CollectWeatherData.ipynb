{
 "cells": [
  {
   "cell_type": "code",
   "execution_count": 7,
   "id": "9f9f29a7",
   "metadata": {},
   "outputs": [],
   "source": [
    "import requests\n",
    "import pandas as pd\n",
    "import numpy as np \n",
    "from keys import * #Se importan los paquetes necesarios para poder leer y arrojar resultados en formatos optimos, en el caso de keys\n",
    "                    #Se importa el archivo y se cambia su extensión a .py\n",
    "city = \"Montréal\"\n",
    "country = \"CA\"\n",
    "response = requests.get(f'http://api.openweathermap.org/data/2.5/forecast/?q={city},{country}&appid={OWM_key}&units=metric&lang=en')\n",
    "# Se ingresan los datos con los cuales se realizará la busqueda, ciudad, país y los datos que se extraerán de la página"
   ]
  },
  {
   "cell_type": "code",
   "execution_count": 6,
   "id": "104d6f7e",
   "metadata": {},
   "outputs": [
    {
     "name": "stdout",
     "output_type": "stream",
     "text": [
      "{'cod': '200', 'message': 0, 'cnt': 40, 'list': [{'dt': 1758758400, 'main': {'temp': 20.24, 'feels_like': 20.12, 'temp_min': 19.03, 'temp_max': 20.24, 'pressure': 1019, 'sea_level': 1019, 'grnd_level': 1015, 'humidity': 69, 'temp_kf': 1.21}, 'weather': [{'id': 803, 'main': 'Clouds', 'description': 'broken clouds', 'icon': '04n'}], 'clouds': {'all': 75}, 'wind': {'speed': 2.56, 'deg': 58, 'gust': 6.1}, 'visibility': 10000, 'pop': 0, 'sys': {'pod': 'n'}, 'dt_txt': '2025-09-25 00:00:00'}, {'dt': 1758769200, 'main': {'temp': 19.15, 'feels_like': 18.87, 'temp_min': 16.98, 'temp_max': 19.15, 'pressure': 1019, 'sea_level': 1019, 'grnd_level': 1015, 'humidity': 67, 'temp_kf': 2.17}, 'weather': [{'id': 803, 'main': 'Clouds', 'description': 'broken clouds', 'icon': '04n'}], 'clouds': {'all': 83}, 'wind': {'speed': 1.89, 'deg': 51, 'gust': 2.87}, 'visibility': 10000, 'pop': 0, 'sys': {'pod': 'n'}, 'dt_txt': '2025-09-25 03:00:00'}, {'dt': 1758780000, 'main': {'temp': 17.45, 'feels_like': 17.13, 'temp_min': 16.06, 'temp_max': 17.45, 'pressure': 1018, 'sea_level': 1018, 'grnd_level': 1014, 'humidity': 72, 'temp_kf': 1.39}, 'weather': [{'id': 804, 'main': 'Clouds', 'description': 'overcast clouds', 'icon': '04n'}], 'clouds': {'all': 92}, 'wind': {'speed': 1.78, 'deg': 82, 'gust': 4.49}, 'visibility': 10000, 'pop': 0, 'sys': {'pod': 'n'}, 'dt_txt': '2025-09-25 06:00:00'}, {'dt': 1758790800, 'main': {'temp': 17.03, 'feels_like': 16.9, 'temp_min': 17.03, 'temp_max': 17.03, 'pressure': 1016, 'sea_level': 1016, 'grnd_level': 1012, 'humidity': 81, 'temp_kf': 0}, 'weather': [{'id': 804, 'main': 'Clouds', 'description': 'overcast clouds', 'icon': '04n'}], 'clouds': {'all': 98}, 'wind': {'speed': 2.5, 'deg': 102, 'gust': 7.94}, 'visibility': 10000, 'pop': 0, 'sys': {'pod': 'n'}, 'dt_txt': '2025-09-25 09:00:00'}, {'dt': 1758801600, 'main': {'temp': 16.33, 'feels_like': 16.42, 'temp_min': 16.33, 'temp_max': 16.33, 'pressure': 1015, 'sea_level': 1015, 'grnd_level': 1012, 'humidity': 92, 'temp_kf': 0}, 'weather': [{'id': 500, 'main': 'Rain', 'description': 'light rain', 'icon': '10d'}], 'clouds': {'all': 99}, 'wind': {'speed': 2.53, 'deg': 119, 'gust': 9.39}, 'visibility': 10000, 'pop': 0.97, 'rain': {'3h': 1.02}, 'sys': {'pod': 'd'}, 'dt_txt': '2025-09-25 12:00:00'}, {'dt': 1758812400, 'main': {'temp': 18.95, 'feels_like': 19.02, 'temp_min': 18.95, 'temp_max': 18.95, 'pressure': 1014, 'sea_level': 1014, 'grnd_level': 1010, 'humidity': 81, 'temp_kf': 0}, 'weather': [{'id': 804, 'main': 'Clouds', 'description': 'overcast clouds', 'icon': '04d'}], 'clouds': {'all': 100}, 'wind': {'speed': 2.9, 'deg': 144, 'gust': 8.38}, 'visibility': 10000, 'pop': 0, 'sys': {'pod': 'd'}, 'dt_txt': '2025-09-25 15:00:00'}, {'dt': 1758823200, 'main': {'temp': 21.75, 'feels_like': 21.68, 'temp_min': 21.75, 'temp_max': 21.75, 'pressure': 1010, 'sea_level': 1010, 'grnd_level': 1007, 'humidity': 65, 'temp_kf': 0}, 'weather': [{'id': 804, 'main': 'Clouds', 'description': 'overcast clouds', 'icon': '04d'}], 'clouds': {'all': 100}, 'wind': {'speed': 4.74, 'deg': 158, 'gust': 6.81}, 'visibility': 10000, 'pop': 0, 'sys': {'pod': 'd'}, 'dt_txt': '2025-09-25 18:00:00'}, {'dt': 1758834000, 'main': {'temp': 17.58, 'feels_like': 17.9, 'temp_min': 17.58, 'temp_max': 17.58, 'pressure': 1007, 'sea_level': 1007, 'grnd_level': 1004, 'humidity': 96, 'temp_kf': 0}, 'weather': [{'id': 501, 'main': 'Rain', 'description': 'moderate rain', 'icon': '10d'}], 'clouds': {'all': 100}, 'wind': {'speed': 2.72, 'deg': 139, 'gust': 6.95}, 'visibility': 2123, 'pop': 1, 'rain': {'3h': 6.85}, 'sys': {'pod': 'd'}, 'dt_txt': '2025-09-25 21:00:00'}, {'dt': 1758844800, 'main': {'temp': 17.42, 'feels_like': 17.75, 'temp_min': 17.42, 'temp_max': 17.42, 'pressure': 1006, 'sea_level': 1006, 'grnd_level': 1003, 'humidity': 97, 'temp_kf': 0}, 'weather': [{'id': 502, 'main': 'Rain', 'description': 'heavy intensity rain', 'icon': '10n'}], 'clouds': {'all': 100}, 'wind': {'speed': 1.05, 'deg': 145, 'gust': 3.48}, 'visibility': 10000, 'pop': 1, 'rain': {'3h': 14.34}, 'sys': {'pod': 'n'}, 'dt_txt': '2025-09-26 00:00:00'}, {'dt': 1758855600, 'main': {'temp': 17.37, 'feels_like': 17.72, 'temp_min': 17.37, 'temp_max': 17.37, 'pressure': 1005, 'sea_level': 1005, 'grnd_level': 1002, 'humidity': 98, 'temp_kf': 0}, 'weather': [{'id': 500, 'main': 'Rain', 'description': 'light rain', 'icon': '10n'}], 'clouds': {'all': 100}, 'wind': {'speed': 1.52, 'deg': 254, 'gust': 4.33}, 'visibility': 10000, 'pop': 0.44, 'rain': {'3h': 0.32}, 'sys': {'pod': 'n'}, 'dt_txt': '2025-09-26 03:00:00'}, {'dt': 1758866400, 'main': {'temp': 17.41, 'feels_like': 17.77, 'temp_min': 17.41, 'temp_max': 17.41, 'pressure': 1005, 'sea_level': 1005, 'grnd_level': 1002, 'humidity': 98, 'temp_kf': 0}, 'weather': [{'id': 500, 'main': 'Rain', 'description': 'light rain', 'icon': '10n'}], 'clouds': {'all': 98}, 'wind': {'speed': 2.31, 'deg': 232, 'gust': 6.57}, 'visibility': 10000, 'pop': 0.36, 'rain': {'3h': 0.22}, 'sys': {'pod': 'n'}, 'dt_txt': '2025-09-26 06:00:00'}, {'dt': 1758877200, 'main': {'temp': 17.47, 'feels_like': 17.81, 'temp_min': 17.47, 'temp_max': 17.47, 'pressure': 1005, 'sea_level': 1005, 'grnd_level': 1002, 'humidity': 97, 'temp_kf': 0}, 'weather': [{'id': 500, 'main': 'Rain', 'description': 'light rain', 'icon': '10n'}], 'clouds': {'all': 99}, 'wind': {'speed': 2.88, 'deg': 238, 'gust': 6.93}, 'visibility': 10000, 'pop': 0.75, 'rain': {'3h': 0.43}, 'sys': {'pod': 'n'}, 'dt_txt': '2025-09-26 09:00:00'}, {'dt': 1758888000, 'main': {'temp': 17.21, 'feels_like': 17.49, 'temp_min': 17.21, 'temp_max': 17.21, 'pressure': 1006, 'sea_level': 1006, 'grnd_level': 1003, 'humidity': 96, 'temp_kf': 0}, 'weather': [{'id': 500, 'main': 'Rain', 'description': 'light rain', 'icon': '10d'}], 'clouds': {'all': 88}, 'wind': {'speed': 3.37, 'deg': 253, 'gust': 7.65}, 'visibility': 10000, 'pop': 0.85, 'rain': {'3h': 0.52}, 'sys': {'pod': 'd'}, 'dt_txt': '2025-09-26 12:00:00'}, {'dt': 1758898800, 'main': {'temp': 17.85, 'feels_like': 18.12, 'temp_min': 17.85, 'temp_max': 17.85, 'pressure': 1008, 'sea_level': 1008, 'grnd_level': 1004, 'humidity': 93, 'temp_kf': 0}, 'weather': [{'id': 804, 'main': 'Clouds', 'description': 'overcast clouds', 'icon': '04d'}], 'clouds': {'all': 100}, 'wind': {'speed': 3.8, 'deg': 248, 'gust': 7}, 'visibility': 10000, 'pop': 0, 'sys': {'pod': 'd'}, 'dt_txt': '2025-09-26 15:00:00'}, {'dt': 1758909600, 'main': {'temp': 22.99, 'feels_like': 22.94, 'temp_min': 22.99, 'temp_max': 22.99, 'pressure': 1008, 'sea_level': 1008, 'grnd_level': 1004, 'humidity': 61, 'temp_kf': 0}, 'weather': [{'id': 500, 'main': 'Rain', 'description': 'light rain', 'icon': '10d'}], 'clouds': {'all': 70}, 'wind': {'speed': 4.47, 'deg': 257, 'gust': 6.29}, 'visibility': 10000, 'pop': 0.2, 'rain': {'3h': 0.15}, 'sys': {'pod': 'd'}, 'dt_txt': '2025-09-26 18:00:00'}, {'dt': 1758920400, 'main': {'temp': 22.94, 'feels_like': 22.83, 'temp_min': 22.94, 'temp_max': 22.94, 'pressure': 1008, 'sea_level': 1008, 'grnd_level': 1004, 'humidity': 59, 'temp_kf': 0}, 'weather': [{'id': 500, 'main': 'Rain', 'description': 'light rain', 'icon': '10d'}], 'clouds': {'all': 38}, 'wind': {'speed': 3.33, 'deg': 260, 'gust': 6.87}, 'visibility': 10000, 'pop': 0.26, 'rain': {'3h': 0.21}, 'sys': {'pod': 'd'}, 'dt_txt': '2025-09-26 21:00:00'}, {'dt': 1758931200, 'main': {'temp': 18.35, 'feels_like': 18.28, 'temp_min': 18.35, 'temp_max': 18.35, 'pressure': 1011, 'sea_level': 1011, 'grnd_level': 1008, 'humidity': 78, 'temp_kf': 0}, 'weather': [{'id': 500, 'main': 'Rain', 'description': 'light rain', 'icon': '10n'}], 'clouds': {'all': 33}, 'wind': {'speed': 2.63, 'deg': 352, 'gust': 7.24}, 'visibility': 10000, 'pop': 0.24, 'rain': {'3h': 0.27}, 'sys': {'pod': 'n'}, 'dt_txt': '2025-09-27 00:00:00'}, {'dt': 1758942000, 'main': {'temp': 16.37, 'feels_like': 16.1, 'temp_min': 16.37, 'temp_max': 16.37, 'pressure': 1013, 'sea_level': 1013, 'grnd_level': 1009, 'humidity': 78, 'temp_kf': 0}, 'weather': [{'id': 800, 'main': 'Clear', 'description': 'clear sky', 'icon': '01n'}], 'clouds': {'all': 7}, 'wind': {'speed': 0.77, 'deg': 330, 'gust': 0.82}, 'visibility': 10000, 'pop': 0, 'sys': {'pod': 'n'}, 'dt_txt': '2025-09-27 03:00:00'}, {'dt': 1758952800, 'main': {'temp': 14.73, 'feels_like': 14.35, 'temp_min': 14.73, 'temp_max': 14.73, 'pressure': 1014, 'sea_level': 1014, 'grnd_level': 1011, 'humidity': 80, 'temp_kf': 0}, 'weather': [{'id': 801, 'main': 'Clouds', 'description': 'few clouds', 'icon': '02n'}], 'clouds': {'all': 23}, 'wind': {'speed': 1.57, 'deg': 24, 'gust': 3.13}, 'visibility': 10000, 'pop': 0, 'sys': {'pod': 'n'}, 'dt_txt': '2025-09-27 06:00:00'}, {'dt': 1758963600, 'main': {'temp': 13.08, 'feels_like': 12.4, 'temp_min': 13.08, 'temp_max': 13.08, 'pressure': 1016, 'sea_level': 1016, 'grnd_level': 1012, 'humidity': 75, 'temp_kf': 0}, 'weather': [{'id': 800, 'main': 'Clear', 'description': 'clear sky', 'icon': '01n'}], 'clouds': {'all': 0}, 'wind': {'speed': 1.62, 'deg': 44, 'gust': 3.22}, 'visibility': 10000, 'pop': 0, 'sys': {'pod': 'n'}, 'dt_txt': '2025-09-27 09:00:00'}, {'dt': 1758974400, 'main': {'temp': 12.58, 'feels_like': 11.64, 'temp_min': 12.58, 'temp_max': 12.58, 'pressure': 1017, 'sea_level': 1017, 'grnd_level': 1014, 'humidity': 67, 'temp_kf': 0}, 'weather': [{'id': 800, 'main': 'Clear', 'description': 'clear sky', 'icon': '01d'}], 'clouds': {'all': 0}, 'wind': {'speed': 2.19, 'deg': 46, 'gust': 3.83}, 'visibility': 10000, 'pop': 0, 'sys': {'pod': 'd'}, 'dt_txt': '2025-09-27 12:00:00'}, {'dt': 1758985200, 'main': {'temp': 16.8, 'feels_like': 15.81, 'temp_min': 16.8, 'temp_max': 16.8, 'pressure': 1017, 'sea_level': 1017, 'grnd_level': 1014, 'humidity': 49, 'temp_kf': 0}, 'weather': [{'id': 800, 'main': 'Clear', 'description': 'clear sky', 'icon': '01d'}], 'clouds': {'all': 0}, 'wind': {'speed': 2.25, 'deg': 75, 'gust': 2.61}, 'visibility': 10000, 'pop': 0, 'sys': {'pod': 'd'}, 'dt_txt': '2025-09-27 15:00:00'}, {'dt': 1758996000, 'main': {'temp': 20.45, 'feels_like': 19.54, 'temp_min': 20.45, 'temp_max': 20.45, 'pressure': 1016, 'sea_level': 1016, 'grnd_level': 1013, 'humidity': 38, 'temp_kf': 0}, 'weather': [{'id': 801, 'main': 'Clouds', 'description': 'few clouds', 'icon': '02d'}], 'clouds': {'all': 17}, 'wind': {'speed': 1.14, 'deg': 93, 'gust': 1.35}, 'visibility': 10000, 'pop': 0, 'sys': {'pod': 'd'}, 'dt_txt': '2025-09-27 18:00:00'}, {'dt': 1759006800, 'main': {'temp': 20.41, 'feels_like': 19.58, 'temp_min': 20.41, 'temp_max': 20.41, 'pressure': 1015, 'sea_level': 1015, 'grnd_level': 1011, 'humidity': 41, 'temp_kf': 0}, 'weather': [{'id': 804, 'main': 'Clouds', 'description': 'overcast clouds', 'icon': '04d'}], 'clouds': {'all': 100}, 'wind': {'speed': 1.43, 'deg': 91, 'gust': 2.45}, 'visibility': 10000, 'pop': 0, 'sys': {'pod': 'd'}, 'dt_txt': '2025-09-27 21:00:00'}, {'dt': 1759017600, 'main': {'temp': 17.42, 'feels_like': 16.6, 'temp_min': 17.42, 'temp_max': 17.42, 'pressure': 1015, 'sea_level': 1015, 'grnd_level': 1011, 'humidity': 53, 'temp_kf': 0}, 'weather': [{'id': 804, 'main': 'Clouds', 'description': 'overcast clouds', 'icon': '04n'}], 'clouds': {'all': 100}, 'wind': {'speed': 1.35, 'deg': 117, 'gust': 1.39}, 'visibility': 10000, 'pop': 0, 'sys': {'pod': 'n'}, 'dt_txt': '2025-09-28 00:00:00'}, {'dt': 1759028400, 'main': {'temp': 16.2, 'feels_like': 15.52, 'temp_min': 16.2, 'temp_max': 16.2, 'pressure': 1015, 'sea_level': 1015, 'grnd_level': 1012, 'humidity': 63, 'temp_kf': 0}, 'weather': [{'id': 804, 'main': 'Clouds', 'description': 'overcast clouds', 'icon': '04n'}], 'clouds': {'all': 100}, 'wind': {'speed': 1.27, 'deg': 172, 'gust': 1.35}, 'visibility': 10000, 'pop': 0, 'sys': {'pod': 'n'}, 'dt_txt': '2025-09-28 03:00:00'}, {'dt': 1759039200, 'main': {'temp': 15.7, 'feels_like': 15.36, 'temp_min': 15.7, 'temp_max': 15.7, 'pressure': 1016, 'sea_level': 1016, 'grnd_level': 1012, 'humidity': 78, 'temp_kf': 0}, 'weather': [{'id': 803, 'main': 'Clouds', 'description': 'broken clouds', 'icon': '04n'}], 'clouds': {'all': 70}, 'wind': {'speed': 1.72, 'deg': 216, 'gust': 2.2}, 'visibility': 10000, 'pop': 0, 'sys': {'pod': 'n'}, 'dt_txt': '2025-09-28 06:00:00'}, {'dt': 1759050000, 'main': {'temp': 14.75, 'feels_like': 14.47, 'temp_min': 14.75, 'temp_max': 14.75, 'pressure': 1017, 'sea_level': 1017, 'grnd_level': 1013, 'humidity': 84, 'temp_kf': 0}, 'weather': [{'id': 800, 'main': 'Clear', 'description': 'clear sky', 'icon': '01n'}], 'clouds': {'all': 0}, 'wind': {'speed': 2.23, 'deg': 228, 'gust': 7.77}, 'visibility': 10000, 'pop': 0, 'sys': {'pod': 'n'}, 'dt_txt': '2025-09-28 09:00:00'}, {'dt': 1759060800, 'main': {'temp': 15.56, 'feels_like': 15.44, 'temp_min': 15.56, 'temp_max': 15.56, 'pressure': 1018, 'sea_level': 1018, 'grnd_level': 1015, 'humidity': 87, 'temp_kf': 0}, 'weather': [{'id': 800, 'main': 'Clear', 'description': 'clear sky', 'icon': '01d'}], 'clouds': {'all': 8}, 'wind': {'speed': 2.54, 'deg': 229, 'gust': 7.22}, 'visibility': 10000, 'pop': 0, 'sys': {'pod': 'd'}, 'dt_txt': '2025-09-28 12:00:00'}, {'dt': 1759071600, 'main': {'temp': 20.86, 'feels_like': 20.67, 'temp_min': 20.86, 'temp_max': 20.86, 'pressure': 1019, 'sea_level': 1019, 'grnd_level': 1016, 'humidity': 64, 'temp_kf': 0}, 'weather': [{'id': 800, 'main': 'Clear', 'description': 'clear sky', 'icon': '01d'}], 'clouds': {'all': 9}, 'wind': {'speed': 3.72, 'deg': 246, 'gust': 5.85}, 'visibility': 10000, 'pop': 0, 'sys': {'pod': 'd'}, 'dt_txt': '2025-09-28 15:00:00'}, {'dt': 1759082400, 'main': {'temp': 24.55, 'feels_like': 24.47, 'temp_min': 24.55, 'temp_max': 24.55, 'pressure': 1019, 'sea_level': 1019, 'grnd_level': 1015, 'humidity': 54, 'temp_kf': 0}, 'weather': [{'id': 800, 'main': 'Clear', 'description': 'clear sky', 'icon': '01d'}], 'clouds': {'all': 5}, 'wind': {'speed': 3.16, 'deg': 257, 'gust': 4.97}, 'visibility': 10000, 'pop': 0, 'sys': {'pod': 'd'}, 'dt_txt': '2025-09-28 18:00:00'}, {'dt': 1759093200, 'main': {'temp': 24.46, 'feels_like': 24.42, 'temp_min': 24.46, 'temp_max': 24.46, 'pressure': 1019, 'sea_level': 1019, 'grnd_level': 1015, 'humidity': 56, 'temp_kf': 0}, 'weather': [{'id': 802, 'main': 'Clouds', 'description': 'scattered clouds', 'icon': '03d'}], 'clouds': {'all': 29}, 'wind': {'speed': 1.98, 'deg': 270, 'gust': 4.32}, 'visibility': 10000, 'pop': 0, 'sys': {'pod': 'd'}, 'dt_txt': '2025-09-28 21:00:00'}, {'dt': 1759104000, 'main': {'temp': 22.44, 'feels_like': 22.38, 'temp_min': 22.44, 'temp_max': 22.44, 'pressure': 1020, 'sea_level': 1020, 'grnd_level': 1016, 'humidity': 63, 'temp_kf': 0}, 'weather': [{'id': 803, 'main': 'Clouds', 'description': 'broken clouds', 'icon': '04n'}], 'clouds': {'all': 65}, 'wind': {'speed': 1.39, 'deg': 182, 'gust': 1.36}, 'visibility': 10000, 'pop': 0, 'sys': {'pod': 'n'}, 'dt_txt': '2025-09-29 00:00:00'}, {'dt': 1759114800, 'main': {'temp': 19.41, 'feels_like': 19.36, 'temp_min': 19.41, 'temp_max': 19.41, 'pressure': 1020, 'sea_level': 1020, 'grnd_level': 1016, 'humidity': 75, 'temp_kf': 0}, 'weather': [{'id': 801, 'main': 'Clouds', 'description': 'few clouds', 'icon': '02n'}], 'clouds': {'all': 19}, 'wind': {'speed': 2.06, 'deg': 194, 'gust': 3.39}, 'visibility': 10000, 'pop': 0, 'sys': {'pod': 'n'}, 'dt_txt': '2025-09-29 03:00:00'}, {'dt': 1759125600, 'main': {'temp': 18.27, 'feels_like': 18.24, 'temp_min': 18.27, 'temp_max': 18.27, 'pressure': 1020, 'sea_level': 1020, 'grnd_level': 1017, 'humidity': 80, 'temp_kf': 0}, 'weather': [{'id': 801, 'main': 'Clouds', 'description': 'few clouds', 'icon': '02n'}], 'clouds': {'all': 12}, 'wind': {'speed': 2.38, 'deg': 233, 'gust': 8.31}, 'visibility': 10000, 'pop': 0, 'sys': {'pod': 'n'}, 'dt_txt': '2025-09-29 06:00:00'}, {'dt': 1759136400, 'main': {'temp': 17.1, 'feels_like': 16.95, 'temp_min': 17.1, 'temp_max': 17.1, 'pressure': 1020, 'sea_level': 1020, 'grnd_level': 1017, 'humidity': 80, 'temp_kf': 0}, 'weather': [{'id': 800, 'main': 'Clear', 'description': 'clear sky', 'icon': '01n'}], 'clouds': {'all': 0}, 'wind': {'speed': 2.98, 'deg': 235, 'gust': 9.97}, 'visibility': 10000, 'pop': 0, 'sys': {'pod': 'n'}, 'dt_txt': '2025-09-29 09:00:00'}, {'dt': 1759147200, 'main': {'temp': 16.99, 'feels_like': 16.86, 'temp_min': 16.99, 'temp_max': 16.99, 'pressure': 1021, 'sea_level': 1021, 'grnd_level': 1018, 'humidity': 81, 'temp_kf': 0}, 'weather': [{'id': 800, 'main': 'Clear', 'description': 'clear sky', 'icon': '01d'}], 'clouds': {'all': 0}, 'wind': {'speed': 3.23, 'deg': 242, 'gust': 9.1}, 'visibility': 10000, 'pop': 0, 'sys': {'pod': 'd'}, 'dt_txt': '2025-09-29 12:00:00'}, {'dt': 1759158000, 'main': {'temp': 22.02, 'feels_like': 21.95, 'temp_min': 22.02, 'temp_max': 22.02, 'pressure': 1021, 'sea_level': 1021, 'grnd_level': 1018, 'humidity': 64, 'temp_kf': 0}, 'weather': [{'id': 800, 'main': 'Clear', 'description': 'clear sky', 'icon': '01d'}], 'clouds': {'all': 0}, 'wind': {'speed': 3.72, 'deg': 263, 'gust': 5.62}, 'visibility': 10000, 'pop': 0, 'sys': {'pod': 'd'}, 'dt_txt': '2025-09-29 15:00:00'}, {'dt': 1759168800, 'main': {'temp': 25.3, 'feels_like': 25.27, 'temp_min': 25.3, 'temp_max': 25.3, 'pressure': 1019, 'sea_level': 1019, 'grnd_level': 1016, 'humidity': 53, 'temp_kf': 0}, 'weather': [{'id': 800, 'main': 'Clear', 'description': 'clear sky', 'icon': '01d'}], 'clouds': {'all': 0}, 'wind': {'speed': 3.71, 'deg': 266, 'gust': 5.45}, 'visibility': 10000, 'pop': 0, 'sys': {'pod': 'd'}, 'dt_txt': '2025-09-29 18:00:00'}, {'dt': 1759179600, 'main': {'temp': 25.65, 'feels_like': 25.47, 'temp_min': 25.65, 'temp_max': 25.65, 'pressure': 1019, 'sea_level': 1019, 'grnd_level': 1015, 'humidity': 46, 'temp_kf': 0}, 'weather': [{'id': 800, 'main': 'Clear', 'description': 'clear sky', 'icon': '01d'}], 'clouds': {'all': 3}, 'wind': {'speed': 2.89, 'deg': 261, 'gust': 4.95}, 'visibility': 10000, 'pop': 0, 'sys': {'pod': 'd'}, 'dt_txt': '2025-09-29 21:00:00'}], 'city': {'id': 6077243, 'name': 'Montreal', 'coord': {'lat': 45.5088, 'lon': -73.5878}, 'country': 'CA', 'population': 3268513, 'timezone': -14400, 'sunrise': 1758710642, 'sunset': 1758754113}}\n",
      "                  time  temperature  humidity weather_status  wind_speed  \\\n",
      "0  2025-09-25 00:00:00        20.24        69         Clouds        2.56   \n",
      "1  2025-09-25 03:00:00        19.15        67         Clouds        1.89   \n",
      "2  2025-09-25 06:00:00        17.45        72         Clouds        1.78   \n",
      "3  2025-09-25 09:00:00        17.03        81         Clouds        2.50   \n",
      "4  2025-09-25 12:00:00        16.33        92           Rain        2.53   \n",
      "\n",
      "   rain_volume_3h  snow_volume_3h  \n",
      "0             NaN             NaN  \n",
      "1             NaN             NaN  \n",
      "2             NaN             NaN  \n",
      "3             NaN             NaN  \n",
      "4            1.02             NaN  \n"
     ]
    }
   ],
   "source": [
    "data = response.json()\n",
    "print (data)\n",
    "\n",
    "# Extract forecast list\n",
    "forecast_list = data.get('list', [])\n",
    "\n",
    "# Prepare lists for DataFrame columns\n",
    "times = []\n",
    "temperatures = []\n",
    "humidities = []\n",
    "weather_statuses = []\n",
    "wind_speeds = []\n",
    "rain_volumes = []\n",
    "snow_volumes = []\n",
    "\n",
    "for entry in forecast_list:\n",
    "    times.append(entry.get('dt_txt', np.nan))\n",
    "    temperatures.append(entry.get('main', {}).get('temp', np.nan))\n",
    "    humidities.append(entry.get('main', {}).get('humidity', np.nan))\n",
    "    weather_statuses.append(entry.get('weather', [{}])[0].get('main', np.nan))\n",
    "    wind_speeds.append(entry.get('wind', {}).get('speed', np.nan))\n",
    "    rain_volumes.append(entry.get('rain', {}).get('3h', np.nan))\n",
    "    snow_volumes.append(entry.get('snow', {}).get('3h', np.nan))\n",
    "\n",
    "# Create DataFrame\n",
    "df = pd.DataFrame({\n",
    "    'time': times,\n",
    "    'temperature': temperatures,\n",
    "    'humidity': humidities,\n",
    "    'weather_status': weather_statuses,\n",
    "    'wind_speed': wind_speeds,\n",
    "    'rain_volume_3h': rain_volumes,\n",
    "    'snow_volume_3h': snow_volumes\n",
    "})\n",
    "\n",
    "print(df.head())"
   ]
  },
  {
   "cell_type": "code",
   "execution_count": null,
   "id": "c2788bec",
   "metadata": {},
   "outputs": [],
   "source": []
  }
 ],
 "metadata": {
  "kernelspec": {
   "display_name": "Python 3 (ipykernel)",
   "language": "python",
   "name": "python3"
  },
  "language_info": {
   "codemirror_mode": {
    "name": "ipython",
    "version": 3
   },
   "file_extension": ".py",
   "mimetype": "text/x-python",
   "name": "python",
   "nbconvert_exporter": "python",
   "pygments_lexer": "ipython3",
   "version": "3.12.3"
  }
 },
 "nbformat": 4,
 "nbformat_minor": 5
}
