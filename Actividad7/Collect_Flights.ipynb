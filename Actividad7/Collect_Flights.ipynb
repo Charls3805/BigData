{
 "cells": [
  {
   "cell_type": "code",
   "execution_count": 6,
   "id": "39d1349e",
   "metadata": {},
   "outputs": [],
   "source": [
    "#Se importan todos los paquetes que se van a usar en código\n",
    "import requests\n",
    "import json\n",
    "from IPython.display import JSON\n",
    "from keys import *"
   ]
  },
  {
   "cell_type": "code",
   "execution_count": 7,
   "id": "76645c5e",
   "metadata": {},
   "outputs": [],
   "source": [
    "#be careful not to run too often as there is a maximum of 200 api calls per month\n",
    "\n",
    "# se obtienen la api para poder solicitar la información requerida\n",
    "url = \"https://aerodatabox.p.rapidapi.com/flights/airports/icao/CYUL/2025-09-01T08:00/2025-09-01T20:00\"\n",
    "\n",
    "querystring = {\"withLeg\":\"true\",\"direction\":\"Arrival\",\"withCancelled\":\"true\",\"withCodeshared\":\"true\",\"withCargo\":\"true\",\"withPrivate\":\"true\",\"withLocation\":\"false\"}\n",
    "\n",
    "headers = {\n",
    "    'x-rapidapi-host': \"aerodatabox.p.rapidapi.com\",\n",
    "    'x-rapidapi-key': flights_key\n",
    "    }\n",
    "\n",
    "response = requests.request(\"GET\", url, headers=headers, params=querystring)"
   ]
  },
  {
   "cell_type": "code",
   "execution_count": 8,
   "id": "2d482f80",
   "metadata": {},
   "outputs": [
    {
     "name": "stdout",
     "output_type": "stream",
     "text": [
      "Data appended to data.json file.\n"
     ]
    }
   ],
   "source": [
    "# Si el acceso es permitido se guarda en un archivo json para poder editar y agregarle información al archivo\n",
    "if response.status_code == 200:\n",
    "    new_data = response.json()\n",
    "\n",
    "    try:\n",
    "        with open(\"data.json\", \"r\") as json_file:\n",
    "            existing_data = json.load(json_file)\n",
    "    except (FileNotFoundError, json.decoder.JSONDecodeError):\n",
    "        existing_data = []\n",
    "\n",
    "    existing_data.append(new_data)\n",
    "\n",
    "    with open(\"data.json\", \"w\") as json_file:\n",
    "        json.dump(existing_data, json_file, indent=4)\n",
    "        print(\"Data appended to data.json file.\")\n",
    "else:\n",
    "    print(\"Failed to retrieve data from the API. Status code:\", response.status_code)"
   ]
  },
  {
   "cell_type": "code",
   "execution_count": 10,
   "id": "24ba2590",
   "metadata": {},
   "outputs": [],
   "source": [
    "# Se crea la lista con los datos que se van a solicitar de la página web\n",
    "flight_arrivals = response.json()\n",
    "\n",
    "for flight in flight_arrivals:\n",
    "    flight_arrivals['arrivals'][0]['arrival']['scheduledTime']\n",
    "    flight_arrivals['arrivals'][0]['number']\n",
    "    flight_arrivals['arrivals'][0]['arrival']\n",
    "    flight_arrivals['arrivals'][0]['departure']['airport']['name']\n",
    "    flight_arrivals['arrivals'][0]['aircraft']['model']\n",
    "    flight_arrivals['arrivals'][0]['airline']['name']"
   ]
  },
  {
   "cell_type": "code",
   "execution_count": 11,
   "id": "3d8eb0fe",
   "metadata": {},
   "outputs": [
    {
     "data": {
      "text/html": [
       "<div>\n",
       "<style scoped>\n",
       "    .dataframe tbody tr th:only-of-type {\n",
       "        vertical-align: middle;\n",
       "    }\n",
       "\n",
       "    .dataframe tbody tr th {\n",
       "        vertical-align: top;\n",
       "    }\n",
       "\n",
       "    .dataframe thead th {\n",
       "        text-align: right;\n",
       "    }\n",
       "</style>\n",
       "<table border=\"1\" class=\"dataframe\">\n",
       "  <thead>\n",
       "    <tr style=\"text-align: right;\">\n",
       "      <th></th>\n",
       "      <th>flight_number</th>\n",
       "      <th>from</th>\n",
       "      <th>airline</th>\n",
       "      <th>aircraft</th>\n",
       "      <th>Scheduled_arrival_time.utc</th>\n",
       "      <th>Scheduled_arrival_time.local</th>\n",
       "    </tr>\n",
       "  </thead>\n",
       "  <tbody>\n",
       "    <tr>\n",
       "      <th>0</th>\n",
       "      <td>EK 1243</td>\n",
       "      <td>Dubai</td>\n",
       "      <td>Emirates</td>\n",
       "      <td>Boeing 777-300</td>\n",
       "      <td>2025-09-01 12:00Z</td>\n",
       "      <td>2025-09-01 08:00-04:00</td>\n",
       "    </tr>\n",
       "    <tr>\n",
       "      <th>0</th>\n",
       "      <td>EK 243</td>\n",
       "      <td>Dubai</td>\n",
       "      <td>Emirates</td>\n",
       "      <td>Boeing 777-200LR</td>\n",
       "      <td>2025-09-01 12:00Z</td>\n",
       "      <td>2025-09-01 08:00-04:00</td>\n",
       "    </tr>\n",
       "    <tr>\n",
       "      <th>0</th>\n",
       "      <td>AC 314</td>\n",
       "      <td>Vancouver</td>\n",
       "      <td>Air Canada</td>\n",
       "      <td>Boeing 737</td>\n",
       "      <td>2025-09-01 10:59Z</td>\n",
       "      <td>2025-09-01 06:59-04:00</td>\n",
       "    </tr>\n",
       "    <tr>\n",
       "      <th>0</th>\n",
       "      <td>PD 2453</td>\n",
       "      <td>Toronto</td>\n",
       "      <td>Porter</td>\n",
       "      <td>Bombardier Dash 8 Q400 / DHC-8-400</td>\n",
       "      <td>2025-09-01 12:15Z</td>\n",
       "      <td>2025-09-01 08:15-04:00</td>\n",
       "    </tr>\n",
       "    <tr>\n",
       "      <th>0</th>\n",
       "      <td>AC 400</td>\n",
       "      <td>Toronto</td>\n",
       "      <td>Air Canada</td>\n",
       "      <td>Airbus A220-300</td>\n",
       "      <td>2025-09-01 12:21Z</td>\n",
       "      <td>2025-09-01 08:21-04:00</td>\n",
       "    </tr>\n",
       "  </tbody>\n",
       "</table>\n",
       "</div>"
      ],
      "text/plain": [
       "  flight_number       from     airline                            aircraft  \\\n",
       "0       EK 1243      Dubai    Emirates                      Boeing 777-300   \n",
       "0        EK 243      Dubai    Emirates                    Boeing 777-200LR   \n",
       "0        AC 314  Vancouver  Air Canada                          Boeing 737   \n",
       "0       PD 2453    Toronto      Porter  Bombardier Dash 8 Q400 / DHC-8-400   \n",
       "0        AC 400    Toronto  Air Canada                     Airbus A220-300   \n",
       "\n",
       "  Scheduled_arrival_time.utc Scheduled_arrival_time.local  \n",
       "0          2025-09-01 12:00Z       2025-09-01 08:00-04:00  \n",
       "0          2025-09-01 12:00Z       2025-09-01 08:00-04:00  \n",
       "0          2025-09-01 10:59Z       2025-09-01 06:59-04:00  \n",
       "0          2025-09-01 12:15Z       2025-09-01 08:15-04:00  \n",
       "0          2025-09-01 12:21Z       2025-09-01 08:21-04:00  "
      ]
     },
     "execution_count": 11,
     "metadata": {},
     "output_type": "execute_result"
    }
   ],
   "source": [
    "# Se solicitan los datos dentro de cada apartado de la lista creada, despues se imprimen los primeros elementos de la lista \n",
    "import pandas as pd\n",
    "from numpy import nan\n",
    "\n",
    "flight_arrivals = response.json()\n",
    "\n",
    "def flight_extraction(flights):\n",
    "    flights_df = pd.json_normalize({\n",
    "        'Scheduled_arrival_time': flights['arrival']['scheduledTime'],\n",
    "        'flight_number': flights['number'],\n",
    "        'from' : flights['departure']['airport']['name'],\n",
    "        'airline' : flights['airline']['name'],\n",
    "        'aircraft' : flights['aircraft']['model']\n",
    "    })\n",
    "    return(flights_df)\n",
    "\n",
    "flight_arrivals = pd.concat(\n",
    "    [flight_extraction(flight) for flight in flight_arrivals['arrivals']]\n",
    ")\n",
    "\n",
    "flight_arrivals.head()"
   ]
  },
  {
   "cell_type": "code",
   "execution_count": null,
   "id": "d86d12dc",
   "metadata": {},
   "outputs": [],
   "source": []
  }
 ],
 "metadata": {
  "kernelspec": {
   "display_name": "Python 3 (ipykernel)",
   "language": "python",
   "name": "python3"
  },
  "language_info": {
   "codemirror_mode": {
    "name": "ipython",
    "version": 3
   },
   "file_extension": ".py",
   "mimetype": "text/x-python",
   "name": "python",
   "nbconvert_exporter": "python",
   "pygments_lexer": "ipython3",
   "version": "3.12.3"
  }
 },
 "nbformat": 4,
 "nbformat_minor": 5
}
